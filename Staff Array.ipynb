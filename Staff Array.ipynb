{
 "cells": [
  {
   "cell_type": "code",
   "execution_count": null,
   "metadata": {},
   "outputs": [],
   "source": [
    "import random\n",
    "\n",
    "first = open(\"assets/staff/first.txt\", \"r\")\n",
    "first = first.read().split('\\n')\n",
    "\n",
    "last = open(\"assets/staff/last.txt\", \"r\")\n",
    "last = last.read().split('\\n')"
   ]
  },
  {
   "cell_type": "code",
   "execution_count": null,
   "metadata": {
    "scrolled": true
   },
   "outputs": [],
   "source": [
    "first = random.choice(first)\n",
    "last = random.choice(last)"
   ]
  },
  {
   "cell_type": "code",
   "execution_count": null,
   "metadata": {},
   "outputs": [],
   "source": [
    "StaffShopArray = {'Finance':[],'War':[], 'tech':[], 'politics':[]}"
   ]
  },
  {
   "cell_type": "code",
   "execution_count": null,
   "metadata": {},
   "outputs": [],
   "source": [
    "[profession,name,level]"
   ]
  },
  {
   "cell_type": "code",
   "execution_count": null,
   "metadata": {},
   "outputs": [],
   "source": [
    "title = ['Doctor','Professor',]\n",
    "for x in range(0,1000):\n"
   ]
  },
  {
   "cell_type": "code",
   "execution_count": 19,
   "metadata": {},
   "outputs": [],
   "source": [
    "from gameSetVariables      import setVariables\n",
    "WAR_BRIEFING = {'weapons':{\n",
    "\t\n",
    "\t'INDUSTRIAL REVOLUTION':{'1':['Conscripts',1,10,2,0.01],     '2':['Cavalry',2,300,2,0.1],       '3':['Cannon Specialists',10,100,2,0.005],'4':['Special-Ops',15,2000,3,0.1],    '5':['MiniSubs',25,20000,4,1],   '6':['Steam Warships',150,5000,2,0.3],'7':['Iron-clad Battleships',300,7000,3,0.35],'8':['Airships',350,100000,4,5]},\n",
    "\t'INFORMATION AGE':      {'1':['Fiflemen',8,10,2,0.01],       '2':['Tanks',5,300,2,0.1],         '3':['Gunboats',20,100,2,0.005],          '4':['Destroyers',50,2000,3,0.1],     '5':['Carriers',40,20000,4,1],   '6':['Jets',200,5000,2,0.3],          '7':['Bombers',350,7000,3,0.35],              '8':['Nukes',500,100000,4,5]},\n",
    "\t'SECOND ENLIGHTENMENT': {'1':['Laser Infantry',20,10,2,0.01],'2':['Mech Troopers',10,300,2,0.1],'3':['Naval Swarm',40,100,2,0.005],       '4':['Hybrid Fighters',80,2000,3,0.1],'5':['EMP Drones',100,20000,4,1],'6':['Raptor Drone',250,5000,2,0.3], '7':['Giga Swarm',400,7000,3,0.35],            '8':['Orbital Strike',999,100000,4,5]}\n",
    "} \n",
    "\n",
    "}\n",
    "NATION_ARRAY = setVariables(WAR_BRIEFING)"
   ]
  },
  {
   "cell_type": "code",
   "execution_count": 2,
   "metadata": {},
   "outputs": [
    {
     "data": {
      "text/plain": [
       "{'might': 100,\n",
       " 'level': 'Private',\n",
       " 'weapons': {'1': ['Conscripts', 500, 1, 1],\n",
       "  '2': ['Cavalry', 20, 1, 2],\n",
       "  '3': ['Cannon Specialists', 10, 1, 10],\n",
       "  '4': ['Special-Ops', 5, 1, 15],\n",
       "  '5': ['MiniSubs', 3, 1, 25],\n",
       "  '6': ['Steam Warships', 2, 1, 150],\n",
       "  '7': ['Iron-clad Battleships', 2, 1, 300],\n",
       "  '8': ['Airships', 1, 1, 350]},\n",
       " 'firePower': 0}"
      ]
     },
     "execution_count": 2,
     "metadata": {},
     "output_type": "execute_result"
    }
   ],
   "source": [
    "NATION_ARRAY[0][0]['war']"
   ]
  },
  {
   "cell_type": "code",
   "execution_count": 21,
   "metadata": {},
   "outputs": [],
   "source": [
    "units = [('7', 499), ('8', 20)]"
   ]
  },
  {
   "cell_type": "code",
   "execution_count": 25,
   "metadata": {},
   "outputs": [],
   "source": [
    "import random\n",
    "firstTech    = NATION_ARRAY[0][0]['Tech']['researched']['one'][2]\n",
    "secondTech   = NATION_ARRAY[0][0]['Tech']['researched']['two'][2]\n",
    "thirdTech    = NATION_ARRAY[0][0]['Tech']['researched']['three'][2]\n",
    "fourthTech   = NATION_ARRAY[0][0]['Tech']['researched']['four'][2]\n",
    "fifthTech    = NATION_ARRAY[0][0]['Tech']['researched']['five'][2]\n",
    "\n",
    "allowedAssets = []\n",
    "if firstTech > -1:\n",
    "    allowedAssets.append(('1',random.randint(1,100)))\n",
    "if firstTech > 99:\n",
    "    allowedAssets.append(('2',random.randint(1,20)))\n",
    "if secondTech > 99:\n",
    "    allowedAssets.append(('3',random.randint(1,20)))\n",
    "if thirdTech > 99:\n",
    "    allowedAssets.append(('4',random.randint(1,10)))\n",
    "    allowedAssets.append(('5',random.randint(1,8)))\n",
    "if fourthTech > 99:\n",
    "    allowedAssets.append(('6',random.randint(1,5)))\n",
    "    allowedAssets.append(('7',random.randint(1,3)))\n",
    "if fifthTech > 99:\n",
    "    allowedAssets.append(('8',1))"
   ]
  },
  {
   "cell_type": "code",
   "execution_count": 83,
   "metadata": {},
   "outputs": [
    {
     "name": "stdout",
     "output_type": "stream",
     "text": [
      "XXXX UNITS LOST IN TRAINING - DRILLED TO HARD XXXX\n",
      "Iron-clad Battleships lost in combat excercise \n",
      "85 Iron-clad Battleships lost\n",
      "414 remaining\n",
      "Airships lost in combat excercise \n",
      "5 Airships lost\n",
      "14 remaining\n"
     ]
    }
   ],
   "source": [
    "# LOSE A PORTION OF UNITS \n",
    "lossProbability = random.randint(0,4)\n",
    "lossAmount = 0.25\n",
    "flag = 'True'\n",
    "if lossProbability == 3:\n",
    "    for unit, quantity in units:\n",
    "        if quantity < 1: continue\n",
    "        if random.randint(0,2) == 1: continue\n",
    "        loss = round(quantity * (random.randint(1,25)/100))\n",
    "        if loss < 1: loss = 1\n",
    "        \n",
    "        if flag == 'True':print(str('XXXX UNITS LOST IN TRAINING - DRILLED TO HARD XXXX'))\n",
    "        flag = 'False'\n",
    "        print(str(str(str(NATION_ARRAY[0][0]['War']['weapons'][unit][0])) + ' lost in combat excercise '))\n",
    "        print(str(str(loss) + ' ' + str(NATION_ARRAY[0][0]['War']['weapons'][unit][0]) +  ' lost'))\n",
    "        print(str(str(quantity - loss) + ' remaining'))\n",
    "        NATION_ARRAY[0][0]['War']['weapons'][unit][1] -= loss\n"
   ]
  },
  {
   "cell_type": "code",
   "execution_count": 84,
   "metadata": {},
   "outputs": [
    {
     "data": {
      "text/plain": [
       "{'1': ['Conscripts', 500, 1, 1],\n",
       " '2': ['Cavalry', 20, 1, 2],\n",
       " '3': ['Cannon Specialists', 9, 1, 10],\n",
       " '4': ['Special-Ops', 5, 1, 15],\n",
       " '5': ['MiniSubs', 3, 1, 25],\n",
       " '6': ['Steam Warships', 2, 1, 150],\n",
       " '7': ['Iron-clad Battleships', 414, 1, 300],\n",
       " '8': ['Airships', 14, 1, 350]}"
      ]
     },
     "execution_count": 84,
     "metadata": {},
     "output_type": "execute_result"
    }
   ],
   "source": [
    "NATION_ARRAY[0][0]['War']['weapons']"
   ]
  },
  {
   "cell_type": "code",
   "execution_count": 82,
   "metadata": {},
   "outputs": [],
   "source": [
    "units = [('7', 499), ('8', 19), ('3',9), ('6',2)]"
   ]
  },
  {
   "cell_type": "code",
   "execution_count": 98,
   "metadata": {},
   "outputs": [
    {
     "name": "stdout",
     "output_type": "stream",
     "text": [
      "70.0\n",
      "450.0\n",
      "0.0\n",
      "0.0\n"
     ]
    }
   ],
   "source": [
    "mightArray       = []\n",
    "wealthArray      = []\n",
    "knowledgeArray   = []\n",
    "influenceArray   = []\n",
    "for nation in NATION_ARRAY:\n",
    "    mightArray.append(nation[0]['War']['might'])\n",
    "    wealthArray.append(nation[0]['Finance']['wealth'])\n",
    "    knowledgeArray.append(nation[0]['Tech']['knowledge'])\n",
    "    influenceArray.append(nation[0]['Politics']['influence'])\n",
    "\n",
    "averageMight = sum(mightArray)/len(mightArray)\n",
    "averageWealth = sum(wealthArray)/len(wealthArray)\n",
    "averageKnowledge = sum(knowledgeArray)/len(knowledgeArray)\n",
    "averageInfluence = sum(influenceArray)/len(influenceArray)\n",
    "print(averageMight)\n",
    "print(averageWealth)\n",
    "print(averageKnowledge)\n",
    "print(averageInfluence)"
   ]
  },
  {
   "cell_type": "code",
   "execution_count": 106,
   "metadata": {},
   "outputs": [
    {
     "data": {
      "text/plain": [
       "1"
      ]
     },
     "execution_count": 106,
     "metadata": {},
     "output_type": "execute_result"
    }
   ],
   "source": [
    "random.randint(0,1)"
   ]
  },
  {
   "cell_type": "code",
   "execution_count": 109,
   "metadata": {},
   "outputs": [
    {
     "data": {
      "text/plain": [
       "3"
      ]
     },
     "execution_count": 109,
     "metadata": {},
     "output_type": "execute_result"
    }
   ],
   "source": [
    "random.choice([1,2,3])"
   ]
  },
  {
   "cell_type": "code",
   "execution_count": null,
   "metadata": {},
   "outputs": [],
   "source": []
  }
 ],
 "metadata": {
  "kernelspec": {
   "display_name": "Python 3",
   "language": "python",
   "name": "python3"
  },
  "language_info": {
   "codemirror_mode": {
    "name": "ipython",
    "version": 3
   },
   "file_extension": ".py",
   "mimetype": "text/x-python",
   "name": "python",
   "nbconvert_exporter": "python",
   "pygments_lexer": "ipython3",
   "version": "3.7.6"
  }
 },
 "nbformat": 4,
 "nbformat_minor": 4
}
